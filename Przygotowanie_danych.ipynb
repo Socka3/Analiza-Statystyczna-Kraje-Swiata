{
 "cells": [
  {
   "cell_type": "code",
   "execution_count": 2,
   "id": "6e1782b2",
   "metadata": {
    "executionInfo": {
     "elapsed": 532,
     "status": "ok",
     "timestamp": 1673987518930,
     "user": {
      "displayName": "Paweł Ambroszczyk",
      "userId": "16673976229646686004"
     },
     "user_tz": -60
    },
    "id": "6e1782b2"
   },
   "outputs": [],
   "source": [
    "import pandas as pd\n",
    "import os, os.path as op\n",
    "import numpy as np\n",
    "from glob import glob\n",
    "from functools import reduce"
   ]
  },
  {
   "cell_type": "markdown",
   "id": "ac96bf3c",
   "metadata": {
    "id": "ac96bf3c"
   },
   "source": [
    "Wczytanie plików:\n",
    "- Dane o kraju (Populacja, powierzchnia...)\n",
    "- Dane o przewidywanej długości życia\n",
    "- Dane o konsumpcji mięsa\n",
    "- Dane o statystyce samobójstw"
   ]
  },
  {
   "cell_type": "code",
   "execution_count": 3,
   "id": "c0d4884b",
   "metadata": {
    "colab": {
     "base_uri": "https://localhost:8080/",
     "height": 377
    },
    "executionInfo": {
     "elapsed": 376,
     "status": "error",
     "timestamp": 1673987544598,
     "user": {
      "displayName": "Paweł Ambroszczyk",
      "userId": "16673976229646686004"
     },
     "user_tz": -60
    },
    "id": "c0d4884b",
    "outputId": "e436013c-8ec4-42c3-ef0c-23167f0e3ebc"
   },
   "outputs": [],
   "source": [
    "df = pd.read_csv(glob(op.join(\"data\",\"population_by_country_2020*\"))[0])\n",
    "df_le = pd.read_csv(glob(op.join(\"data\",\"PA_Life expectancy*\"))[0])\n",
    "df_mc = pd.read_csv(glob(op.join(\"data\",\"PA_Meat consumption*\"))[0])\n",
    "df_sr = pd.read_csv(glob(op.join(\"data\",\"PA_Suicide rate*\"))[0])"
   ]
  },
  {
   "cell_type": "markdown",
   "id": "185213f4",
   "metadata": {
    "id": "185213f4"
   },
   "source": [
    "- Usunięcie krajów ponizej 100_000 populacji\\\n",
    "- Usunięcie \"%\" z kolumn\\\n",
    "- Zastapienie braków danych średnią z kolumn"
   ]
  },
  {
   "cell_type": "code",
   "execution_count": 4,
   "id": "9c7e0fc0",
   "metadata": {
    "executionInfo": {
     "elapsed": 18,
     "status": "aborted",
     "timestamp": 1673987519329,
     "user": {
      "displayName": "Paweł Ambroszczyk",
      "userId": "16673976229646686004"
     },
     "user_tz": -60
    },
    "id": "9c7e0fc0"
   },
   "outputs": [
    {
     "data": {
      "text/plain": [
       "Country (or dependency)    False\n",
       "Population (2020)          False\n",
       "Yearly Change              False\n",
       "Net Change                 False\n",
       "Density (P/Km²)            False\n",
       "Land Area (Km²)            False\n",
       "Migrants (net)             False\n",
       "Fert. Rate                 False\n",
       "Med. Age                   False\n",
       "Urban Pop %                False\n",
       "World Share                False\n",
       "dtype: bool"
      ]
     },
     "execution_count": 4,
     "metadata": {},
     "output_type": "execute_result"
    }
   ],
   "source": [
    "df = df[df[\"Population (2020)\"] >= 100_000]\n",
    "df[\"Urban Pop %\"] = df[\"Urban Pop %\"].apply(lambda x: x.replace(\" %\",\"\"))\n",
    "df[\"World Share\"] = df[\"World Share\"].apply(lambda x: x.replace(\" %\",\"\")).astype(float)\n",
    "df[\"Yearly Change\"] = df[\"Yearly Change\"].apply(lambda x: x.replace(\" %\",\"\")).astype(float)\n",
    "df['Med. Age'] = df['Med. Age'].astype(int)\n",
    "df = df.replace(\"N.A.\", np.nan)\n",
    "df[\"Urban Pop %\"] = df[\"Urban Pop %\"].astype(float)\n",
    "df[\"Urban Pop %\"] = df[\"Urban Pop %\"].fillna(df[\"Urban Pop %\"].mean())\n",
    "df.isna().any()\n"
   ]
  },
  {
   "cell_type": "markdown",
   "id": "6af2c63f",
   "metadata": {
    "id": "6af2c63f"
   },
   "source": [
    "- Zmiana nazw kolumn\n",
    "- Sortowanie alfabetyczne według nazw krajów\n",
    "- Dodanie nowej kolumny"
   ]
  },
  {
   "cell_type": "code",
   "execution_count": 5,
   "id": "450e590f",
   "metadata": {
    "executionInfo": {
     "elapsed": 19,
     "status": "aborted",
     "timestamp": 1673987519331,
     "user": {
      "displayName": "Paweł Ambroszczyk",
      "userId": "16673976229646686004"
     },
     "user_tz": -60
    },
    "id": "450e590f"
   },
   "outputs": [],
   "source": [
    "col_names = {'Country (or dependency)': 'Kraj',\n",
    " 'Population (2020)': 'Populacja',\n",
    " 'Yearly Change': 'Przyrost_rzeczywisty',\n",
    " 'Net Change': 'Przyrost_rzeczywisty',\n",
    " 'Density (P/Km²)': 'Zaludnienie',\n",
    " 'Land Area (Km²)': 'Powierzchnia',\n",
    " 'Migrants (net)': 'Migracje',\n",
    " 'Fert. Rate': 'Wspolczynnik dzietności',\n",
    " 'Med. Age': 'Sredni wiek',\n",
    " 'Urban Pop %': 'Urbanizacja',\n",
    " 'World Share': 'Powierzchnia ladu'}\n",
    "df = df.rename(columns=col_names).sort_values(\"Kraj\").reset_index(drop=True)\n"
   ]
  },
  {
   "cell_type": "markdown",
   "id": "935b9812",
   "metadata": {
    "id": "935b9812"
   },
   "source": [
    "- Połączenie danych z trzech plików\n",
    "- Usuniecie zbędnych kolumn\n",
    "- Zastapienie braków danych średnią z kolumn"
   ]
  },
  {
   "cell_type": "code",
   "execution_count": 6,
   "id": "32dd77a9",
   "metadata": {
    "executionInfo": {
     "elapsed": 19,
     "status": "aborted",
     "timestamp": 1673987519332,
     "user": {
      "displayName": "Paweł Ambroszczyk",
      "userId": "16673976229646686004"
     },
     "user_tz": -60
    },
    "id": "32dd77a9"
   },
   "outputs": [
    {
     "data": {
      "text/plain": [
       "Meat consumption    0\n",
       "Life expectancy     0\n",
       "Suicide rate        0\n",
       "dtype: int64"
      ]
     },
     "execution_count": 6,
     "metadata": {},
     "output_type": "execute_result"
    }
   ],
   "source": [
    "df_mc_le_sr = reduce(lambda x,y: pd.merge(x, y,on=['Country'], how='outer'), [df_mc, df_le, df_sr])\n",
    "df_mc_le_sr = df_mc_le_sr.drop([\"ISO-code_x\", \"ISO-code_y\" , \"ISO-code\"], axis=1)\n",
    "col_temp = ['Meat consumption', 'Life expectancy', 'Suicide rate']\n",
    "df_mc_le_sr[col_temp] = df_mc_le_sr[col_temp].fillna(df_mc_le_sr[col_temp].mean())\n",
    "df_mc_le_sr[col_temp].isna().sum()"
   ]
  },
  {
   "cell_type": "markdown",
   "id": "12995357",
   "metadata": {
    "id": "12995357"
   },
   "source": [
    "Ilość pokrywajacych sie nazw krajów"
   ]
  },
  {
   "cell_type": "code",
   "execution_count": 7,
   "id": "1df8b88e",
   "metadata": {
    "executionInfo": {
     "elapsed": 17,
     "status": "aborted",
     "timestamp": 1673987519332,
     "user": {
      "displayName": "Paweł Ambroszczyk",
      "userId": "16673976229646686004"
     },
     "user_tz": -60
    },
    "id": "1df8b88e"
   },
   "outputs": [
    {
     "data": {
      "text/plain": [
       "177"
      ]
     },
     "execution_count": 7,
     "metadata": {},
     "output_type": "execute_result"
    }
   ],
   "source": [
    "df_mc_le_sr_kraj = [i for i in df_mc_le_sr[\"Country\"]]\n",
    "df_kraj = [i for i in df[\"Kraj\"]]\n",
    "common = list(set(df_mc_le_sr_kraj).intersection(df_kraj))\n",
    "len(common)"
   ]
  },
  {
   "cell_type": "markdown",
   "id": "b594230c",
   "metadata": {
    "id": "b594230c"
   },
   "source": [
    "Takie same kraje o innym zapisie"
   ]
  },
  {
   "cell_type": "code",
   "execution_count": 8,
   "id": "0bf2ad75",
   "metadata": {
    "executionInfo": {
     "elapsed": 17,
     "status": "aborted",
     "timestamp": 1673987519332,
     "user": {
      "displayName": "Paweł Ambroszczyk",
      "userId": "16673976229646686004"
     },
     "user_tz": -60
    },
    "id": "0bf2ad75"
   },
   "outputs": [
    {
     "name": "stdout",
     "output_type": "stream",
     "text": [
      "['American Samoa', 'Antigua and Barbuda', 'Cape Verde', 'Czech Republic', 'Democratic Republic of the Congo', 'Dominica', 'East Timor', 'FR Yugoslavia', 'Greenland', 'Ivory Coast', 'Republic of the Congo', 'Saint Kitts and Nevis', 'Saint Vincent and the Grenadines', 'Sao Tome and Principe', 'Seychelles', 'The Bahamas', 'The Gambia', 'Virgin Islands', 'Andorra', 'Liechtenstein', 'Marshall Islands', 'Palau', 'Palestine']\n"
     ]
    }
   ],
   "source": [
    "difference = []\n",
    "for item in df_mc_le_sr_kraj:\n",
    "    if item not in df_kraj:\n",
    "        difference.append(item)\n",
    "print(difference)\n"
   ]
  },
  {
   "cell_type": "code",
   "execution_count": 9,
   "id": "dda53308",
   "metadata": {
    "executionInfo": {
     "elapsed": 18,
     "status": "aborted",
     "timestamp": 1673987519333,
     "user": {
      "displayName": "Paweł Ambroszczyk",
      "userId": "16673976229646686004"
     },
     "user_tz": -60
    },
    "id": "dda53308"
   },
   "outputs": [
    {
     "name": "stdout",
     "output_type": "stream",
     "text": [
      "['Aruba', 'Bahamas', 'Cabo Verde', 'Channel Islands', 'Congo', 'Curaçao', 'Czech Republic (Czechia)', \"Côte d'Ivoire\", 'DR Congo', 'Gambia', 'Guinea-Bissau', 'Macao', 'Mayotte', 'Puerto Rico', 'Réunion', 'Sao Tome & Principe', 'St. Vincent & Grenadines', 'State of Palestine', 'Taiwan', 'Timor-Leste', 'U.S. Virgin Islands', 'Western Sahara']\n"
     ]
    }
   ],
   "source": [
    "difference_2 = []\n",
    "for item in df_kraj:\n",
    "    if item not in df_mc_le_sr_kraj:\n",
    "        difference_2.append(item)\n",
    "print(difference_2)"
   ]
  },
  {
   "cell_type": "code",
   "execution_count": 10,
   "id": "050fe3bb",
   "metadata": {
    "executionInfo": {
     "elapsed": 17,
     "status": "aborted",
     "timestamp": 1673987519333,
     "user": {
      "displayName": "Paweł Ambroszczyk",
      "userId": "16673976229646686004"
     },
     "user_tz": -60
    },
    "id": "050fe3bb"
   },
   "outputs": [],
   "source": [
    "df_mc_le_sr['Country'] = df_mc_le_sr['Country'].replace([\n",
    "    'The Gambia','The Bahamas','Sao Tome and Principe',\n",
    "    'East Timor','Cape Verde','Czech Republic',\n",
    "    'Democratic Republic of the Congo','Saint Vincent and the Grenadines',\n",
    "    'Virgin Islands','Palestine'],\n",
    "    ['Gambia','Bahamas','Sao Tome & Principe',\n",
    "    'Timor-Leste','Cabo Verde','Czech Republic (Czechia)',\n",
    "    'Congo','St. Vincent & Grenadines','U.S. Virgin Islands','State of Palestine'])"
   ]
  },
  {
   "cell_type": "markdown",
   "id": "192cd533",
   "metadata": {
    "id": "192cd533"
   },
   "source": [
    "- Zmiana nazw kolumn\n",
    "- Sortowanie alfabetyczne według nazw krajów\n",
    "- Połączenie tabel"
   ]
  },
  {
   "cell_type": "code",
   "execution_count": 11,
   "id": "470b322b",
   "metadata": {
    "executionInfo": {
     "elapsed": 18,
     "status": "aborted",
     "timestamp": 1673987519334,
     "user": {
      "displayName": "Paweł Ambroszczyk",
      "userId": "16673976229646686004"
     },
     "user_tz": -60
    },
    "id": "470b322b"
   },
   "outputs": [
    {
     "data": {
      "text/plain": [
       "Kraj                          False\n",
       "Populacja                     False\n",
       "Przyrost_rzeczywisty          False\n",
       "Przyrost_rzeczywisty          False\n",
       "Zaludnienie                   False\n",
       "Powierzchnia                  False\n",
       "Migracje                      False\n",
       "Wspolczynnik dzietności       False\n",
       "Sredni wiek                   False\n",
       "Urbanizacja                   False\n",
       "Powierzchnia ladu             False\n",
       "Spozycie miesa                False\n",
       "Przewidywana dlugosc zycia    False\n",
       "wspolczynnik samobojstw       False\n",
       "dtype: bool"
      ]
     },
     "execution_count": 11,
     "metadata": {},
     "output_type": "execute_result"
    }
   ],
   "source": [
    "col_names_2 = {\n",
    "    'Country': \"Kraj\", 'Meat consumption': \"Spozycie miesa\",\n",
    "    'Life expectancy': \"Przewidywana dlugosc zycia\",\n",
    "    'Suicide rate':\"wspolczynnik samobojstw\"\n",
    "}\n",
    "df_mc_le_sr = df_mc_le_sr.rename(columns=col_names_2).sort_values(\"Kraj\").reset_index(drop=True)\n",
    "df = df.merge(df_mc_le_sr, on='Kraj', how= 'inner')\n",
    "df = df.round(2)\n",
    "df.isna().any()\n"
   ]
  },
  {
   "cell_type": "markdown",
   "id": "81f15dcb",
   "metadata": {
    "id": "81f15dcb"
   },
   "source": [
    "Dodanie nowej kolumny \"Wielkosc\", tak aby kraje były podzielone w prorocjach 50/50"
   ]
  },
  {
   "cell_type": "code",
   "execution_count": 12,
   "id": "f6737171",
   "metadata": {
    "executionInfo": {
     "elapsed": 17,
     "status": "aborted",
     "timestamp": 1673987519334,
     "user": {
      "displayName": "Paweł Ambroszczyk",
      "userId": "16673976229646686004"
     },
     "user_tz": -60
    },
    "id": "f6737171"
   },
   "outputs": [],
   "source": [
    "df[\"Wielkosc\"] = df[\"Populacja\"].apply(lambda x:\"Duzy\" if x >= 9015361.0 else \"Maly\")\n"
   ]
  },
  {
   "cell_type": "code",
   "execution_count": 13,
   "id": "9e9e0c18",
   "metadata": {
    "executionInfo": {
     "elapsed": 18,
     "status": "aborted",
     "timestamp": 1673987519335,
     "user": {
      "displayName": "Paweł Ambroszczyk",
      "userId": "16673976229646686004"
     },
     "user_tz": -60
    },
    "id": "9e9e0c18",
    "scrolled": true
   },
   "outputs": [
    {
     "data": {
      "text/html": [
       "<div>\n",
       "<style scoped>\n",
       "    .dataframe tbody tr th:only-of-type {\n",
       "        vertical-align: middle;\n",
       "    }\n",
       "\n",
       "    .dataframe tbody tr th {\n",
       "        vertical-align: top;\n",
       "    }\n",
       "\n",
       "    .dataframe thead th {\n",
       "        text-align: right;\n",
       "    }\n",
       "</style>\n",
       "<table border=\"1\" class=\"dataframe\">\n",
       "  <thead>\n",
       "    <tr style=\"text-align: right;\">\n",
       "      <th></th>\n",
       "      <th>Populacja</th>\n",
       "      <th>Przyrost_rzeczywisty</th>\n",
       "      <th>Przyrost_rzeczywisty</th>\n",
       "      <th>Zaludnienie</th>\n",
       "      <th>Powierzchnia</th>\n",
       "      <th>Migracje</th>\n",
       "      <th>Sredni wiek</th>\n",
       "      <th>Urbanizacja</th>\n",
       "      <th>Powierzchnia ladu</th>\n",
       "      <th>Spozycie miesa</th>\n",
       "      <th>Przewidywana dlugosc zycia</th>\n",
       "      <th>wspolczynnik samobojstw</th>\n",
       "    </tr>\n",
       "  </thead>\n",
       "  <tbody>\n",
       "    <tr>\n",
       "      <th>count</th>\n",
       "      <td>1.940000e+02</td>\n",
       "      <td>194.000000</td>\n",
       "      <td>1.940000e+02</td>\n",
       "      <td>194.000000</td>\n",
       "      <td>1.940000e+02</td>\n",
       "      <td>194.000000</td>\n",
       "      <td>194.000000</td>\n",
       "      <td>194.000000</td>\n",
       "      <td>194.000000</td>\n",
       "      <td>194.000000</td>\n",
       "      <td>194.000000</td>\n",
       "      <td>194.000000</td>\n",
       "    </tr>\n",
       "    <tr>\n",
       "      <th>mean</th>\n",
       "      <td>3.995595e+07</td>\n",
       "      <td>1.261959</td>\n",
       "      <td>4.142524e+05</td>\n",
       "      <td>238.237113</td>\n",
       "      <td>6.621398e+05</td>\n",
       "      <td>80.376289</td>\n",
       "      <td>30.000000</td>\n",
       "      <td>58.731443</td>\n",
       "      <td>0.511701</td>\n",
       "      <td>43.477320</td>\n",
       "      <td>71.700773</td>\n",
       "      <td>9.673660</td>\n",
       "    </tr>\n",
       "    <tr>\n",
       "      <th>std</th>\n",
       "      <td>1.479640e+08</td>\n",
       "      <td>1.088556</td>\n",
       "      <td>1.216300e+06</td>\n",
       "      <td>816.294417</td>\n",
       "      <td>1.833044e+06</td>\n",
       "      <td>125278.800663</td>\n",
       "      <td>9.192247</td>\n",
       "      <td>21.957176</td>\n",
       "      <td>1.895947</td>\n",
       "      <td>34.211488</td>\n",
       "      <td>7.490160</td>\n",
       "      <td>5.226639</td>\n",
       "    </tr>\n",
       "    <tr>\n",
       "      <th>min</th>\n",
       "      <td>1.043980e+05</td>\n",
       "      <td>-1.350000</td>\n",
       "      <td>-3.838400e+05</td>\n",
       "      <td>2.000000</td>\n",
       "      <td>3.000000e+02</td>\n",
       "      <td>-653249.000000</td>\n",
       "      <td>15.000000</td>\n",
       "      <td>13.000000</td>\n",
       "      <td>0.000000</td>\n",
       "      <td>3.000000</td>\n",
       "      <td>52.800000</td>\n",
       "      <td>0.400000</td>\n",
       "    </tr>\n",
       "    <tr>\n",
       "      <th>25%</th>\n",
       "      <td>2.590332e+06</td>\n",
       "      <td>0.440000</td>\n",
       "      <td>5.323000e+03</td>\n",
       "      <td>32.500000</td>\n",
       "      <td>2.766750e+04</td>\n",
       "      <td>-10434.000000</td>\n",
       "      <td>21.250000</td>\n",
       "      <td>39.000000</td>\n",
       "      <td>0.030000</td>\n",
       "      <td>14.475000</td>\n",
       "      <td>66.625000</td>\n",
       "      <td>6.100000</td>\n",
       "    </tr>\n",
       "    <tr>\n",
       "      <th>50%</th>\n",
       "      <td>9.783438e+06</td>\n",
       "      <td>1.140000</td>\n",
       "      <td>8.181700e+04</td>\n",
       "      <td>82.000000</td>\n",
       "      <td>1.416550e+05</td>\n",
       "      <td>-1413.500000</td>\n",
       "      <td>29.500000</td>\n",
       "      <td>59.580000</td>\n",
       "      <td>0.125000</td>\n",
       "      <td>34.250000</td>\n",
       "      <td>72.350000</td>\n",
       "      <td>9.400000</td>\n",
       "    </tr>\n",
       "    <tr>\n",
       "      <th>75%</th>\n",
       "      <td>2.826828e+07</td>\n",
       "      <td>2.137500</td>\n",
       "      <td>3.615490e+05</td>\n",
       "      <td>194.000000</td>\n",
       "      <td>5.078675e+05</td>\n",
       "      <td>9488.250000</td>\n",
       "      <td>38.000000</td>\n",
       "      <td>77.500000</td>\n",
       "      <td>0.360000</td>\n",
       "      <td>67.400000</td>\n",
       "      <td>76.800000</td>\n",
       "      <td>11.775000</td>\n",
       "    </tr>\n",
       "    <tr>\n",
       "      <th>max</th>\n",
       "      <td>1.440298e+09</td>\n",
       "      <td>3.840000</td>\n",
       "      <td>1.358663e+07</td>\n",
       "      <td>8358.000000</td>\n",
       "      <td>1.637687e+07</td>\n",
       "      <td>954806.000000</td>\n",
       "      <td>48.000000</td>\n",
       "      <td>98.000000</td>\n",
       "      <td>18.470000</td>\n",
       "      <td>145.900000</td>\n",
       "      <td>84.700000</td>\n",
       "      <td>30.200000</td>\n",
       "    </tr>\n",
       "  </tbody>\n",
       "</table>\n",
       "</div>"
      ],
      "text/plain": [
       "          Populacja  Przyrost_rzeczywisty  Przyrost_rzeczywisty  Zaludnienie  \\\n",
       "count  1.940000e+02            194.000000          1.940000e+02   194.000000   \n",
       "mean   3.995595e+07              1.261959          4.142524e+05   238.237113   \n",
       "std    1.479640e+08              1.088556          1.216300e+06   816.294417   \n",
       "min    1.043980e+05             -1.350000         -3.838400e+05     2.000000   \n",
       "25%    2.590332e+06              0.440000          5.323000e+03    32.500000   \n",
       "50%    9.783438e+06              1.140000          8.181700e+04    82.000000   \n",
       "75%    2.826828e+07              2.137500          3.615490e+05   194.000000   \n",
       "max    1.440298e+09              3.840000          1.358663e+07  8358.000000   \n",
       "\n",
       "       Powierzchnia       Migracje  Sredni wiek  Urbanizacja  \\\n",
       "count  1.940000e+02     194.000000   194.000000   194.000000   \n",
       "mean   6.621398e+05      80.376289    30.000000    58.731443   \n",
       "std    1.833044e+06  125278.800663     9.192247    21.957176   \n",
       "min    3.000000e+02 -653249.000000    15.000000    13.000000   \n",
       "25%    2.766750e+04  -10434.000000    21.250000    39.000000   \n",
       "50%    1.416550e+05   -1413.500000    29.500000    59.580000   \n",
       "75%    5.078675e+05    9488.250000    38.000000    77.500000   \n",
       "max    1.637687e+07  954806.000000    48.000000    98.000000   \n",
       "\n",
       "       Powierzchnia ladu  Spozycie miesa  Przewidywana dlugosc zycia  \\\n",
       "count         194.000000      194.000000                  194.000000   \n",
       "mean            0.511701       43.477320                   71.700773   \n",
       "std             1.895947       34.211488                    7.490160   \n",
       "min             0.000000        3.000000                   52.800000   \n",
       "25%             0.030000       14.475000                   66.625000   \n",
       "50%             0.125000       34.250000                   72.350000   \n",
       "75%             0.360000       67.400000                   76.800000   \n",
       "max            18.470000      145.900000                   84.700000   \n",
       "\n",
       "       wspolczynnik samobojstw  \n",
       "count               194.000000  \n",
       "mean                  9.673660  \n",
       "std                   5.226639  \n",
       "min                   0.400000  \n",
       "25%                   6.100000  \n",
       "50%                   9.400000  \n",
       "75%                  11.775000  \n",
       "max                  30.200000  "
      ]
     },
     "execution_count": 13,
     "metadata": {},
     "output_type": "execute_result"
    }
   ],
   "source": [
    "df.describe()"
   ]
  },
  {
   "cell_type": "markdown",
   "id": "8bb26fc0",
   "metadata": {
    "id": "8bb26fc0"
   },
   "source": [
    "#### Dodanie kolumny kontynent"
   ]
  },
  {
   "cell_type": "code",
   "execution_count": 14,
   "id": "bc7a5081",
   "metadata": {
    "executionInfo": {
     "elapsed": 17,
     "status": "aborted",
     "timestamp": 1673987519335,
     "user": {
      "displayName": "Paweł Ambroszczyk",
      "userId": "16673976229646686004"
     },
     "user_tz": -60
    },
    "id": "bc7a5081"
   },
   "outputs": [
    {
     "data": {
      "text/plain": [
       "{'Europe': 42,\n",
       " 'America': 38,\n",
       " 'Africa': 49,\n",
       " 'Asia': 48,\n",
       " 'Australia_oceania': 12}"
      ]
     },
     "execution_count": 14,
     "metadata": {},
     "output_type": "execute_result"
    }
   ],
   "source": [
    "df = df.drop(range(69,76,1))\n",
    "df = df.reset_index(drop=True)\n",
    "Europe = [\"Albania\",\"Austria\",\"Belarus\",\"Belgium\",\"Bosnia and Herzegovina\",\"Bulgaria\"\n",
    "          ,\"Croatia\",\"Cyprus\",\"Czech Republic (Czechia)\",\"Denmark\",\"Estonia\",\"Hungary\",\"Iceland\",\"\",\"\",\n",
    "          \"Finland\",\"France\",\"Germany\",\"Greece\",\"Ireland\",\"Italy\",\"Latvia\",'Lithuania','Luxembourg','Malta'\n",
    "         ,'Moldova','Montenegro','Netherlands','North Macedonia','Norway','Poland','Portugal','Romania'\n",
    "         ,'Russia','Slovakia','Slovenia','Spain','Sweden','Switzerland','Ukraine','United Kingdom','Armenia']\n",
    "America = [\"Argentina\",\"Bahamas\",\"Barbados\",\"Belize\",\"Bolivia\",\"Brazil\",\"Canada\"\n",
    "           ,\"Chile\",\"Colombia\",\"Costa Rica\",\"Cuba\",\"Dominican Republic\",\"Ecuador\",\"El Salvador\",\n",
    "           \"French Guiana\",\"Grenada\",\"Guadeloupe\",\"Guam\",\"Guatemala\",\"Guyana\",\"Haiti\",\"Honduras\",\n",
    "           \"Jamaica\",\"Kenya\",'Martinique','Mexico','Nicaragua','Panama','Peru','Paraguay',\"Saint Lucia\",\n",
    "          'St. Vincent & Grenadines','Suriname','Trinidad and Tobago','U.S. Virgin Islands','United States'\n",
    "          ,'Uruguay','Venezuela']\n",
    "Africa = [\"Algeria\",\"Angola\",\"Benin\",\"Botswana\",\"Burkina Faso\",\"Burundi\",\"Cabo Verde\",\n",
    "          \"Cameroon\",\"Central African Republic\",\"Chad\",\"Comoros\",\"Congo\",\"Djibouti\",\"Egypt\",\"Equatorial Guinea\",\"Eritrea\"\n",
    "          ,\"Eswatini\",\"Ethiopia\",\"Gabon\",\"Gambia\",\"Guinea\",\"Ghana\",'Lesotho','Liberia','Libya'\n",
    "          ,'Madagascar','Malawi','Mali','Mauritania','Mauritius','Morocco','Mozambique','Namibia','Niger'\n",
    "         ,'Nigeria',\"Rwanda\",'Sao Tome & Principe','Senegal','Sierra Leone','Somalia','South Africa',\n",
    "         'South Sudan','Sudan','Tanzania','Togo','Tunisia','Uganda','Zambia','Zimbabwe']\n",
    "Asia = [\"Afghanistan\",\"Azerbaijan\",\"Bahrain\",\"Bangladesh\",\"Bhutan\",\"Brunei\",\"Cambodia\"\n",
    "        ,\"China\",\"Georgia\",\"Hong Kong\",\"India\",\"Indonesia\",\"Iran\",\"Iraq\",\"Israel\",\"Japan\",\"Jordan\",\n",
    "        \"Kazakhstan\",\"Kuwait\",\"Lebanon\",'Kyrgyzstan','Laos','Malaysia','Maldives','Mongolia','Myanmar',\n",
    "       'Nepal','North Korea','Oman','Pakistan','Philippines','Qatar','Saudi Arabia','Serbia','Singapore',\n",
    "        'South Korea','Sri Lanka','State of Palestine','Syria','Tajikistan','Thailand','Timor-Leste',\n",
    "        'Turkey','Turkmenistan','United Arab Emirates','Uzbekistan','Vietnam','Yemen'\n",
    "       ]\n",
    "Australia_oceania = [\"Australia\",\"Fiji\",\"French Polynesia\",\"Kiribati\",'Micronesia','New Caledonia',\n",
    "                     'New Zealand','Papua New Guinea',\"Samoa\",'Solomon Islands','Tonga','Vanuatu']\n",
    "count_countines = {\"Europe\" : len(Europe), \"America\": len(America),\n",
    "                   \"Africa\": len(Africa), \"Asia\": len(Asia), \"Australia_oceania\" :len(Australia_oceania)}\n",
    "count_countines"
   ]
  },
  {
   "cell_type": "code",
   "execution_count": 15,
   "id": "528622f0",
   "metadata": {
    "executionInfo": {
     "elapsed": 17,
     "status": "aborted",
     "timestamp": 1673987519335,
     "user": {
      "displayName": "Paweł Ambroszczyk",
      "userId": "16673976229646686004"
     },
     "user_tz": -60
    },
    "id": "528622f0"
   },
   "outputs": [
    {
     "name": "stdout",
     "output_type": "stream",
     "text": [
      "[]\n"
     ]
    }
   ],
   "source": [
    "difference = []\n",
    "for item in df[\"Kraj\"]:\n",
    "    if item not in Europe and item not in America and item not in Africa and item not in Asia and item not in Australia_oceania:\n",
    "        difference.append(item)\n",
    "print(difference)"
   ]
  },
  {
   "cell_type": "code",
   "execution_count": 16,
   "id": "819a9a99",
   "metadata": {},
   "outputs": [
    {
     "name": "stdout",
     "output_type": "stream",
     "text": [
      "[]\n"
     ]
    }
   ],
   "source": [
    "regions = Europe + America + Africa + Asia + Australia_oceania\n",
    "difference = [item for item in df[\"Kraj\"] if item not in regions]\n",
    "print(difference)"
   ]
  },
  {
   "cell_type": "code",
   "execution_count": 17,
   "id": "88e8ec14",
   "metadata": {
    "executionInfo": {
     "elapsed": 18,
     "status": "aborted",
     "timestamp": 1673987519336,
     "user": {
      "displayName": "Paweł Ambroszczyk",
      "userId": "16673976229646686004"
     },
     "user_tz": -60
    },
    "id": "88e8ec14"
   },
   "outputs": [],
   "source": [
    "continent_map = {\"Asia\": Asia, \"America\": America, \"Africa\": Africa, \"Europe\": Europe}\n",
    "\n",
    "def add_continents(x):\n",
    "    for continent, countries in continent_map.items():\n",
    "        if x in countries:\n",
    "            return continent\n",
    "    return \"brak danych\""
   ]
  },
  {
   "cell_type": "code",
   "execution_count": 18,
   "id": "ad8cd3dd",
   "metadata": {
    "executionInfo": {
     "elapsed": 18,
     "status": "aborted",
     "timestamp": 1673987519336,
     "user": {
      "displayName": "Paweł Ambroszczyk",
      "userId": "16673976229646686004"
     },
     "user_tz": -60
    },
    "id": "ad8cd3dd"
   },
   "outputs": [
    {
     "data": {
      "text/html": [
       "<div>\n",
       "<style scoped>\n",
       "    .dataframe tbody tr th:only-of-type {\n",
       "        vertical-align: middle;\n",
       "    }\n",
       "\n",
       "    .dataframe tbody tr th {\n",
       "        vertical-align: top;\n",
       "    }\n",
       "\n",
       "    .dataframe thead th {\n",
       "        text-align: right;\n",
       "    }\n",
       "</style>\n",
       "<table border=\"1\" class=\"dataframe\">\n",
       "  <thead>\n",
       "    <tr style=\"text-align: right;\">\n",
       "      <th></th>\n",
       "      <th>Kraj</th>\n",
       "      <th>Populacja</th>\n",
       "      <th>Przyrost_rzeczywisty</th>\n",
       "      <th>Przyrost_rzeczywisty</th>\n",
       "      <th>Zaludnienie</th>\n",
       "      <th>Powierzchnia</th>\n",
       "      <th>Migracje</th>\n",
       "      <th>Wspolczynnik dzietności</th>\n",
       "      <th>Sredni wiek</th>\n",
       "      <th>Urbanizacja</th>\n",
       "      <th>Powierzchnia ladu</th>\n",
       "      <th>Spozycie miesa</th>\n",
       "      <th>Przewidywana dlugosc zycia</th>\n",
       "      <th>wspolczynnik samobojstw</th>\n",
       "      <th>Wielkosc</th>\n",
       "      <th>Kontynent</th>\n",
       "    </tr>\n",
       "  </thead>\n",
       "  <tbody>\n",
       "    <tr>\n",
       "      <th>0</th>\n",
       "      <td>Afghanistan</td>\n",
       "      <td>39074280</td>\n",
       "      <td>2.33</td>\n",
       "      <td>886592</td>\n",
       "      <td>60</td>\n",
       "      <td>652860</td>\n",
       "      <td>-62920.0</td>\n",
       "      <td>4.6</td>\n",
       "      <td>18</td>\n",
       "      <td>25.0</td>\n",
       "      <td>0.50</td>\n",
       "      <td>17.30</td>\n",
       "      <td>64.50</td>\n",
       "      <td>6.4</td>\n",
       "      <td>Duzy</td>\n",
       "      <td>Asia</td>\n",
       "    </tr>\n",
       "    <tr>\n",
       "      <th>1</th>\n",
       "      <td>Albania</td>\n",
       "      <td>2877239</td>\n",
       "      <td>-0.11</td>\n",
       "      <td>-3120</td>\n",
       "      <td>105</td>\n",
       "      <td>27400</td>\n",
       "      <td>-14000.0</td>\n",
       "      <td>1.6</td>\n",
       "      <td>36</td>\n",
       "      <td>63.0</td>\n",
       "      <td>0.04</td>\n",
       "      <td>43.84</td>\n",
       "      <td>71.75</td>\n",
       "      <td>5.6</td>\n",
       "      <td>Maly</td>\n",
       "      <td>Europe</td>\n",
       "    </tr>\n",
       "    <tr>\n",
       "      <th>2</th>\n",
       "      <td>Algeria</td>\n",
       "      <td>43984569</td>\n",
       "      <td>1.85</td>\n",
       "      <td>797990</td>\n",
       "      <td>18</td>\n",
       "      <td>2381740</td>\n",
       "      <td>-10000.0</td>\n",
       "      <td>3.1</td>\n",
       "      <td>29</td>\n",
       "      <td>73.0</td>\n",
       "      <td>0.56</td>\n",
       "      <td>18.30</td>\n",
       "      <td>76.70</td>\n",
       "      <td>3.3</td>\n",
       "      <td>Duzy</td>\n",
       "      <td>Africa</td>\n",
       "    </tr>\n",
       "    <tr>\n",
       "      <th>3</th>\n",
       "      <td>Angola</td>\n",
       "      <td>33032075</td>\n",
       "      <td>3.27</td>\n",
       "      <td>1040977</td>\n",
       "      <td>26</td>\n",
       "      <td>1246700</td>\n",
       "      <td>6413.0</td>\n",
       "      <td>5.6</td>\n",
       "      <td>17</td>\n",
       "      <td>67.0</td>\n",
       "      <td>0.42</td>\n",
       "      <td>19.00</td>\n",
       "      <td>60.80</td>\n",
       "      <td>8.9</td>\n",
       "      <td>Duzy</td>\n",
       "      <td>Africa</td>\n",
       "    </tr>\n",
       "    <tr>\n",
       "      <th>4</th>\n",
       "      <td>Argentina</td>\n",
       "      <td>45267449</td>\n",
       "      <td>0.93</td>\n",
       "      <td>415097</td>\n",
       "      <td>17</td>\n",
       "      <td>2736690</td>\n",
       "      <td>4800.0</td>\n",
       "      <td>2.3</td>\n",
       "      <td>32</td>\n",
       "      <td>93.0</td>\n",
       "      <td>0.58</td>\n",
       "      <td>79.70</td>\n",
       "      <td>76.50</td>\n",
       "      <td>9.1</td>\n",
       "      <td>Duzy</td>\n",
       "      <td>America</td>\n",
       "    </tr>\n",
       "  </tbody>\n",
       "</table>\n",
       "</div>"
      ],
      "text/plain": [
       "          Kraj  Populacja  Przyrost_rzeczywisty  Przyrost_rzeczywisty  \\\n",
       "0  Afghanistan   39074280                  2.33                886592   \n",
       "1      Albania    2877239                 -0.11                 -3120   \n",
       "2      Algeria   43984569                  1.85                797990   \n",
       "3       Angola   33032075                  3.27               1040977   \n",
       "4    Argentina   45267449                  0.93                415097   \n",
       "\n",
       "   Zaludnienie  Powierzchnia  Migracje Wspolczynnik dzietności  Sredni wiek  \\\n",
       "0           60        652860  -62920.0                     4.6           18   \n",
       "1          105         27400  -14000.0                     1.6           36   \n",
       "2           18       2381740  -10000.0                     3.1           29   \n",
       "3           26       1246700    6413.0                     5.6           17   \n",
       "4           17       2736690    4800.0                     2.3           32   \n",
       "\n",
       "   Urbanizacja  Powierzchnia ladu  Spozycie miesa  Przewidywana dlugosc zycia  \\\n",
       "0         25.0               0.50           17.30                       64.50   \n",
       "1         63.0               0.04           43.84                       71.75   \n",
       "2         73.0               0.56           18.30                       76.70   \n",
       "3         67.0               0.42           19.00                       60.80   \n",
       "4         93.0               0.58           79.70                       76.50   \n",
       "\n",
       "   wspolczynnik samobojstw Wielkosc Kontynent  \n",
       "0                      6.4     Duzy      Asia  \n",
       "1                      5.6     Maly    Europe  \n",
       "2                      3.3     Duzy    Africa  \n",
       "3                      8.9     Duzy    Africa  \n",
       "4                      9.1     Duzy   America  "
      ]
     },
     "execution_count": 18,
     "metadata": {},
     "output_type": "execute_result"
    }
   ],
   "source": [
    "df[\"Kontynent\"] = df[\"Kraj\"].apply(add_continents)\n",
    "df = df.drop(163)\n",
    "df = df.reset_index(drop=True)\n",
    "df.head()"
   ]
  },
  {
   "cell_type": "code",
   "execution_count": 19,
   "id": "d103f0bd",
   "metadata": {
    "executionInfo": {
     "elapsed": 19,
     "status": "aborted",
     "timestamp": 1673987519337,
     "user": {
      "displayName": "Paweł Ambroszczyk",
      "userId": "16673976229646686004"
     },
     "user_tz": -60
    },
    "id": "d103f0bd"
   },
   "outputs": [],
   "source": [
    "#df.to_csv(\"Dane_Statystyka_Pełne.csv\", index = False)"
   ]
  }
 ],
 "metadata": {
  "colab": {
   "provenance": []
  },
  "kernelspec": {
   "display_name": "Python 3 (ipykernel)",
   "language": "python",
   "name": "python3"
  },
  "language_info": {
   "codemirror_mode": {
    "name": "ipython",
    "version": 3
   },
   "file_extension": ".py",
   "mimetype": "text/x-python",
   "name": "python",
   "nbconvert_exporter": "python",
   "pygments_lexer": "ipython3",
   "version": "3.9.7"
  }
 },
 "nbformat": 4,
 "nbformat_minor": 5
}
