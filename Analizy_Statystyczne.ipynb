{
 "cells": [
  {
   "cell_type": "code",
   "execution_count": 30,
   "id": "e42b2c1e",
   "metadata": {
    "id": "e42b2c1e"
   },
   "outputs": [],
   "source": [
    "import pandas as pd\n",
    "import pingouin as pg\n",
    "import os, os.path as op\n",
    "import numpy as np\n",
    "import matplotlib.pyplot as plt\n",
    "import seaborn as sns\n",
    "from glob import glob\n",
    "import statsmodels.api as sm\n",
    "import statsmodels.formula.api as smf\n",
    "from matplotlib import ticker"
   ]
  },
  {
   "cell_type": "code",
   "execution_count": 31,
   "id": "60984347",
   "metadata": {
    "id": "60984347"
   },
   "outputs": [],
   "source": [
    "df = pd.read_csv(glob(op.join(\"data\",\"Dane_Statystyka_Pełne*\"))[0])"
   ]
  },
  {
   "cell_type": "markdown",
   "id": "1e827908",
   "metadata": {
    "id": "1e827908"
   },
   "source": [
    "### Test t-Studenta dla prób niezależnych\n",
    " - Czy kraje małe i duże różnią się ilością spożywanego mięsa:"
   ]
  },
  {
   "cell_type": "markdown",
   "id": "2a45d72f",
   "metadata": {
    "id": "2a45d72f"
   },
   "source": [
    "### Czy kraje duże oraz małe wykazują różnice w ilości spożywanego mięsa?\n",
    "H0: Kraje małe i kraje duże nie różnią się ilością spożywanego mięsa.\\\n",
    "HA: Kraje małe i kraje duże różnią się ilością spożywanego mięsa."
   ]
  },
  {
   "cell_type": "code",
   "execution_count": 32,
   "id": "8889392c",
   "metadata": {
    "id": "8889392c",
    "outputId": "f036993a-9cee-4b8e-ba59-ad00537dc30c",
    "scrolled": true
   },
   "outputs": [
    {
     "data": {
      "text/html": [
       "<div>\n",
       "<style scoped>\n",
       "    .dataframe tbody tr th:only-of-type {\n",
       "        vertical-align: middle;\n",
       "    }\n",
       "\n",
       "    .dataframe tbody tr th {\n",
       "        vertical-align: top;\n",
       "    }\n",
       "\n",
       "    .dataframe thead th {\n",
       "        text-align: right;\n",
       "    }\n",
       "</style>\n",
       "<table border=\"1\" class=\"dataframe\">\n",
       "  <thead>\n",
       "    <tr style=\"text-align: right;\">\n",
       "      <th></th>\n",
       "      <th>T</th>\n",
       "      <th>dof</th>\n",
       "      <th>alternative</th>\n",
       "      <th>p-val</th>\n",
       "      <th>CI95%</th>\n",
       "      <th>cohen-d</th>\n",
       "      <th>BF10</th>\n",
       "      <th>power</th>\n",
       "    </tr>\n",
       "  </thead>\n",
       "  <tbody>\n",
       "    <tr>\n",
       "      <th>T-test</th>\n",
       "      <td>-2.707822</td>\n",
       "      <td>184</td>\n",
       "      <td>two-sided</td>\n",
       "      <td>0.007411</td>\n",
       "      <td>[-23.09, -3.62]</td>\n",
       "      <td>0.397094</td>\n",
       "      <td>4.65</td>\n",
       "      <td>0.768436</td>\n",
       "    </tr>\n",
       "  </tbody>\n",
       "</table>\n",
       "</div>"
      ],
      "text/plain": [
       "               T  dof alternative     p-val            CI95%   cohen-d  BF10  \\\n",
       "T-test -2.707822  184   two-sided  0.007411  [-23.09, -3.62]  0.397094  4.65   \n",
       "\n",
       "           power  \n",
       "T-test  0.768436  "
      ]
     },
     "execution_count": 32,
     "metadata": {},
     "output_type": "execute_result"
    }
   ],
   "source": [
    "pg.ttest((df[df[\"Wielkosc\"] == \"Duzy\" ][\"Spozycie miesa\"]), (df[df[\"Wielkosc\"] == \"Maly\" ][\"Spozycie miesa\"]))"
   ]
  },
  {
   "cell_type": "markdown",
   "id": "0e3ffb40",
   "metadata": {
    "id": "0e3ffb40"
   },
   "source": [
    "##### t(184) = 2.71 ; p = 0.007 ; d = 0.4\n",
    "\n",
    "- Wynik istotny statystycznie: p = 0.002.\n",
    "- Występują różnice pomiędzy krajami dużymi i małymi (w zakresie ilości spożywanego mięsa).\n",
    "- Efekty słaby."
   ]
  },
  {
   "cell_type": "code",
   "execution_count": 33,
   "id": "7f318b59",
   "metadata": {
    "id": "7f318b59",
    "outputId": "77d3028b-c6b4-4b1c-b8d4-01d31dda4cf4",
    "scrolled": false
   },
   "outputs": [
    {
     "data": {
      "text/html": [
       "<div>\n",
       "<style scoped>\n",
       "    .dataframe tbody tr th:only-of-type {\n",
       "        vertical-align: middle;\n",
       "    }\n",
       "\n",
       "    .dataframe tbody tr th {\n",
       "        vertical-align: top;\n",
       "    }\n",
       "\n",
       "    .dataframe thead th {\n",
       "        text-align: right;\n",
       "    }\n",
       "</style>\n",
       "<table border=\"1\" class=\"dataframe\">\n",
       "  <thead>\n",
       "    <tr style=\"text-align: right;\">\n",
       "      <th></th>\n",
       "      <th>mean</th>\n",
       "      <th>std</th>\n",
       "      <th>amin</th>\n",
       "      <th>amax</th>\n",
       "    </tr>\n",
       "    <tr>\n",
       "      <th>Wielkosc</th>\n",
       "      <th></th>\n",
       "      <th></th>\n",
       "      <th></th>\n",
       "      <th></th>\n",
       "    </tr>\n",
       "  </thead>\n",
       "  <tbody>\n",
       "    <tr>\n",
       "      <th>Duzy</th>\n",
       "      <td>38.24</td>\n",
       "      <td>32.01</td>\n",
       "      <td>3.1</td>\n",
       "      <td>124.8</td>\n",
       "    </tr>\n",
       "    <tr>\n",
       "      <th>Maly</th>\n",
       "      <td>51.59</td>\n",
       "      <td>35.19</td>\n",
       "      <td>3.0</td>\n",
       "      <td>145.9</td>\n",
       "    </tr>\n",
       "  </tbody>\n",
       "</table>\n",
       "</div>"
      ],
      "text/plain": [
       "           mean    std  amin   amax\n",
       "Wielkosc                           \n",
       "Duzy      38.24  32.01   3.1  124.8\n",
       "Maly      51.59  35.19   3.0  145.9"
      ]
     },
     "execution_count": 33,
     "metadata": {},
     "output_type": "execute_result"
    }
   ],
   "source": [
    "df.groupby(['Wielkosc'])['Spozycie miesa'].agg([np.mean, np.std, np.min, np.max]).round(2)"
   ]
  },
  {
   "cell_type": "code",
   "execution_count": 34,
   "id": "f32d002b",
   "metadata": {
    "id": "f32d002b",
    "outputId": "9a6b29fe-f0a6-47f0-db00-e149158d357d"
   },
   "outputs": [
    {
     "data": {
      "image/png": "[encoded data removed]",
      "text/plain": [
       "<Figure size 576x432 with 1 Axes>"
      ]
     },
     "metadata": {},
     "output_type": "display_data"
    }
   ],
   "source": [
    "plt.style.use(\"ggplot\")\n",
    "fig, ax = plt.subplots(figsize=(8, 6))\n",
    "sns.barplot(x=\"Wielkosc\", y=\"Spozycie miesa\",data=df,\n",
    "           order = ['Duzy','Maly'], capsize = .10)\n",
    "ax.set_xlabel(\"Wielkość kraju\")\n",
    "ax.set_ylabel(\"Roczne średnie spożycie mięsa na osobę\")\n",
    "ax.set_ylim(0,146)\n",
    "ax.yaxis.set_major_formatter(ticker.FormatStrFormatter(\"%d kg\"))\n",
    "\n",
    "if not op.exists(\"plots\"):\n",
    "    os.mkdir(\"plots\")\n",
    "\n",
    "plt.title(\"Wielkość kraju a spożycie mięsa\", pad = 15)\n",
    "plt.savefig(fname=op.join(\"plots\",'plot_tt.png'),dpi=600,transparent=False)\n",
    "plt.show()\n",
    "\n"
   ]
  },
  {
   "cell_type": "markdown",
   "id": "7a5715b1",
   "metadata": {
    "id": "7a5715b1"
   },
   "source": [
    "W celu sprawdzenia, czy kraje duże i małe kraje różnią sie ilościa spożywanego mięsa, wykonano analizę\\\n",
    "testem t Studenta dla prób niezależnych. Wynik tej analizy okazał się istotny statystycznie,\\\n",
    "t(184) = 2.71 ; p = 0.007; d = 0.4. Wynik d Cohena wskazuje na występowanie małego efektu\\\n",
    "wielkości. Kraje duże (M = 38.24 ; SD = 32.01) cechują się mniejszą ilością spożywanego\\\n",
    "mięsa od krajów małych (M = 51.59 ; SD = 35.19). Hipoteza badawcza potwierdziła się.\n"
   ]
  },
  {
   "cell_type": "markdown",
   "id": "4ffdb235",
   "metadata": {
    "id": "4ffdb235"
   },
   "source": [
    "### ANOVA"
   ]
  },
  {
   "cell_type": "markdown",
   "id": "0eb4aa6e",
   "metadata": {
    "id": "0eb4aa6e"
   },
   "source": [
    "Czy kontynent wpływa na średnie zaludnienie ?\\\n",
    "\n",
    "H0: Kontynent nie wpływa na średnie zaludnienie kraju (Os./Km^2).\\\n",
    "HA: Kontynent wpływa na średnie zaludnienie kraju (Os./Km^2)."
   ]
  },
  {
   "cell_type": "code",
   "execution_count": 35,
   "id": "637d3651",
   "metadata": {
    "id": "637d3651"
   },
   "outputs": [],
   "source": [
    "df_a = df[(df[\"Kontynent\"] == \"Europe\") | (df[\"Kontynent\"] == \"Africa\") | (df[\"Kontynent\"] == \"Asia\")].reset_index()"
   ]
  },
  {
   "cell_type": "code",
   "execution_count": 36,
   "id": "4f8c9516",
   "metadata": {
    "id": "4f8c9516",
    "outputId": "fab2f369-d906-4824-a1e8-5c906868a130"
   },
   "outputs": [
    {
     "data": {
      "text/html": [
       "<div>\n",
       "<style scoped>\n",
       "    .dataframe tbody tr th:only-of-type {\n",
       "        vertical-align: middle;\n",
       "    }\n",
       "\n",
       "    .dataframe tbody tr th {\n",
       "        vertical-align: top;\n",
       "    }\n",
       "\n",
       "    .dataframe thead th {\n",
       "        text-align: right;\n",
       "    }\n",
       "</style>\n",
       "<table border=\"1\" class=\"dataframe\">\n",
       "  <thead>\n",
       "    <tr style=\"text-align: right;\">\n",
       "      <th></th>\n",
       "      <th>mean</th>\n",
       "      <th>std</th>\n",
       "      <th>amin</th>\n",
       "      <th>amax</th>\n",
       "      <th>size</th>\n",
       "    </tr>\n",
       "    <tr>\n",
       "      <th>Kontynent</th>\n",
       "      <th></th>\n",
       "      <th></th>\n",
       "      <th></th>\n",
       "      <th></th>\n",
       "      <th></th>\n",
       "    </tr>\n",
       "  </thead>\n",
       "  <tbody>\n",
       "    <tr>\n",
       "      <th>Africa</th>\n",
       "      <td>4.22</td>\n",
       "      <td>1.15</td>\n",
       "      <td>1.4</td>\n",
       "      <td>7.0</td>\n",
       "      <td>49</td>\n",
       "    </tr>\n",
       "    <tr>\n",
       "      <th>Asia</th>\n",
       "      <td>2.37</td>\n",
       "      <td>0.77</td>\n",
       "      <td>1.1</td>\n",
       "      <td>4.6</td>\n",
       "      <td>47</td>\n",
       "    </tr>\n",
       "    <tr>\n",
       "      <th>Europe</th>\n",
       "      <td>1.58</td>\n",
       "      <td>0.18</td>\n",
       "      <td>1.3</td>\n",
       "      <td>1.9</td>\n",
       "      <td>40</td>\n",
       "    </tr>\n",
       "  </tbody>\n",
       "</table>\n",
       "</div>"
      ],
      "text/plain": [
       "           mean   std  amin  amax  size\n",
       "Kontynent                              \n",
       "Africa     4.22  1.15   1.4   7.0    49\n",
       "Asia       2.37  0.77   1.1   4.6    47\n",
       "Europe     1.58  0.18   1.3   1.9    40"
      ]
     },
     "execution_count": 36,
     "metadata": {},
     "output_type": "execute_result"
    }
   ],
   "source": [
    "desc_a = df_a.groupby([\"Kontynent\"])[\"Wspolczynnik dzietności\"].agg([np.mean, np.std, np.min, np.max, np.size]).round(2)\n",
    "desc_a\n"
   ]
  },
  {
   "cell_type": "code",
   "execution_count": 37,
   "id": "51c10d1d",
   "metadata": {
    "id": "51c10d1d",
    "outputId": "ee5a94c8-b163-431d-db3d-781b20b785c8",
    "scrolled": true
   },
   "outputs": [
    {
     "data": {
      "image/png": "[encoded data removed]",
      "text/plain": [
       "<Figure size 648x216 with 3 Axes>"
      ]
     },
     "metadata": {},
     "output_type": "display_data"
    }
   ],
   "source": [
    "g = sns.FacetGrid(data=df_a, col=\"Kontynent\", sharex = False, col_order = [\"Europe\",\"Asia\",\"Africa\"])\n",
    "g.map_dataframe(sns.histplot, x=\"Wspolczynnik dzietności\",color = \"r\",)\n",
    "axes = g.axes.flatten()\n",
    "axes[0].set_title(\"Europa\")\n",
    "axes[1].set_title(\"Azja\")\n",
    "axes[2].set_title(\"Afryka\")\n",
    "plt.savefig(fname=op.join(\"plots\",'ANOVA.png'),dpi=600,transparent=False)"
   ]
  },
  {
   "cell_type": "code",
   "execution_count": 38,
   "id": "380e1829",
   "metadata": {
    "id": "380e1829",
    "outputId": "027b5615-07dd-4cb7-82ee-e96c5eb27648"
   },
   "outputs": [
    {
     "data": {
      "text/html": [
       "<div>\n",
       "<style scoped>\n",
       "    .dataframe tbody tr th:only-of-type {\n",
       "        vertical-align: middle;\n",
       "    }\n",
       "\n",
       "    .dataframe tbody tr th {\n",
       "        vertical-align: top;\n",
       "    }\n",
       "\n",
       "    .dataframe thead th {\n",
       "        text-align: right;\n",
       "    }\n",
       "</style>\n",
       "<table border=\"1\" class=\"dataframe\">\n",
       "  <thead>\n",
       "    <tr style=\"text-align: right;\">\n",
       "      <th></th>\n",
       "      <th>Source</th>\n",
       "      <th>ddof1</th>\n",
       "      <th>ddof2</th>\n",
       "      <th>F</th>\n",
       "      <th>p-unc</th>\n",
       "      <th>np2</th>\n",
       "    </tr>\n",
       "  </thead>\n",
       "  <tbody>\n",
       "    <tr>\n",
       "      <th>0</th>\n",
       "      <td>Kontynent</td>\n",
       "      <td>2</td>\n",
       "      <td>133</td>\n",
       "      <td>120.441399</td>\n",
       "      <td>1.410017e-30</td>\n",
       "      <td>0.644274</td>\n",
       "    </tr>\n",
       "  </tbody>\n",
       "</table>\n",
       "</div>"
      ],
      "text/plain": [
       "      Source  ddof1  ddof2           F         p-unc       np2\n",
       "0  Kontynent      2    133  120.441399  1.410017e-30  0.644274"
      ]
     },
     "execution_count": 38,
     "metadata": {},
     "output_type": "execute_result"
    }
   ],
   "source": [
    "pg.anova(data=df_a, dv=\"Wspolczynnik dzietności\", between=\"Kontynent\")"
   ]
  },
  {
   "cell_type": "markdown",
   "id": "67c06469",
   "metadata": {
    "id": "67c06469"
   },
   "source": [
    "#### F(2, 133) = 120.44 ; p < 0.001 ; etap2 = 0.64\n",
    "\n",
    "- Wynik jest istotny statystycznie, kontynent wpływa na współczynnik dzietności.\n",
    "- Odrzucamy H0.\n",
    "- Etap2 = 0.64 --> efekt kontynentu jest silny."
   ]
  },
  {
   "cell_type": "code",
   "execution_count": 39,
   "id": "d015eab8",
   "metadata": {
    "id": "d015eab8",
    "outputId": "0be6c00c-f694-4d6b-ebca-8b39197f5885"
   },
   "outputs": [
    {
     "data": {
      "text/html": [
       "<div>\n",
       "<style scoped>\n",
       "    .dataframe tbody tr th:only-of-type {\n",
       "        vertical-align: middle;\n",
       "    }\n",
       "\n",
       "    .dataframe tbody tr th {\n",
       "        vertical-align: top;\n",
       "    }\n",
       "\n",
       "    .dataframe thead th {\n",
       "        text-align: right;\n",
       "    }\n",
       "</style>\n",
       "<table border=\"1\" class=\"dataframe\">\n",
       "  <thead>\n",
       "    <tr style=\"text-align: right;\">\n",
       "      <th></th>\n",
       "      <th>Contrast</th>\n",
       "      <th>A</th>\n",
       "      <th>B</th>\n",
       "      <th>Paired</th>\n",
       "      <th>Parametric</th>\n",
       "      <th>T</th>\n",
       "      <th>dof</th>\n",
       "      <th>alternative</th>\n",
       "      <th>p-unc</th>\n",
       "      <th>p-corr</th>\n",
       "      <th>p-adjust</th>\n",
       "      <th>BF10</th>\n",
       "      <th>cohen</th>\n",
       "    </tr>\n",
       "  </thead>\n",
       "  <tbody>\n",
       "    <tr>\n",
       "      <th>0</th>\n",
       "      <td>Kontynent</td>\n",
       "      <td>Africa</td>\n",
       "      <td>Asia</td>\n",
       "      <td>False</td>\n",
       "      <td>True</td>\n",
       "      <td>9.2842</td>\n",
       "      <td>84.4930</td>\n",
       "      <td>two-sided</td>\n",
       "      <td>0.0</td>\n",
       "      <td>0.0</td>\n",
       "      <td>sidak</td>\n",
       "      <td>7.73e+11</td>\n",
       "      <td>1.8806</td>\n",
       "    </tr>\n",
       "    <tr>\n",
       "      <th>1</th>\n",
       "      <td>Kontynent</td>\n",
       "      <td>Africa</td>\n",
       "      <td>Europe</td>\n",
       "      <td>False</td>\n",
       "      <td>True</td>\n",
       "      <td>15.8453</td>\n",
       "      <td>51.0292</td>\n",
       "      <td>two-sided</td>\n",
       "      <td>0.0</td>\n",
       "      <td>0.0</td>\n",
       "      <td>sidak</td>\n",
       "      <td>8.938e+23</td>\n",
       "      <td>3.0634</td>\n",
       "    </tr>\n",
       "    <tr>\n",
       "      <th>2</th>\n",
       "      <td>Kontynent</td>\n",
       "      <td>Asia</td>\n",
       "      <td>Europe</td>\n",
       "      <td>False</td>\n",
       "      <td>True</td>\n",
       "      <td>6.7790</td>\n",
       "      <td>52.0824</td>\n",
       "      <td>two-sided</td>\n",
       "      <td>0.0</td>\n",
       "      <td>0.0</td>\n",
       "      <td>sidak</td>\n",
       "      <td>5.702e+06</td>\n",
       "      <td>1.3560</td>\n",
       "    </tr>\n",
       "  </tbody>\n",
       "</table>\n",
       "</div>"
      ],
      "text/plain": [
       "    Contrast       A       B  Paired  Parametric        T      dof  \\\n",
       "0  Kontynent  Africa    Asia   False        True   9.2842  84.4930   \n",
       "1  Kontynent  Africa  Europe   False        True  15.8453  51.0292   \n",
       "2  Kontynent    Asia  Europe   False        True   6.7790  52.0824   \n",
       "\n",
       "  alternative  p-unc  p-corr p-adjust       BF10   cohen  \n",
       "0   two-sided    0.0     0.0    sidak   7.73e+11  1.8806  \n",
       "1   two-sided    0.0     0.0    sidak  8.938e+23  3.0634  \n",
       "2   two-sided    0.0     0.0    sidak  5.702e+06  1.3560  "
      ]
     },
     "execution_count": 39,
     "metadata": {},
     "output_type": "execute_result"
    }
   ],
   "source": [
    "pg.pairwise_tests(data=df_a, dv=\"Wspolczynnik dzietności\", between=\"Kontynent\", effsize=\"cohen\",padjust='sidak').round(4)"
   ]
  },
  {
   "cell_type": "code",
   "execution_count": 40,
   "id": "d09ac02d",
   "metadata": {
    "id": "d09ac02d",
    "outputId": "701cd376-e51f-47d1-9035-9688968d48f8"
   },
   "outputs": [
    {
     "data": {
      "text/html": [
       "<div>\n",
       "<style scoped>\n",
       "    .dataframe tbody tr th:only-of-type {\n",
       "        vertical-align: middle;\n",
       "    }\n",
       "\n",
       "    .dataframe tbody tr th {\n",
       "        vertical-align: top;\n",
       "    }\n",
       "\n",
       "    .dataframe thead th {\n",
       "        text-align: right;\n",
       "    }\n",
       "</style>\n",
       "<table border=\"1\" class=\"dataframe\">\n",
       "  <thead>\n",
       "    <tr style=\"text-align: right;\">\n",
       "      <th></th>\n",
       "      <th>mean</th>\n",
       "      <th>std</th>\n",
       "      <th>amax</th>\n",
       "    </tr>\n",
       "    <tr>\n",
       "      <th>Kontynent</th>\n",
       "      <th></th>\n",
       "      <th></th>\n",
       "      <th></th>\n",
       "    </tr>\n",
       "  </thead>\n",
       "  <tbody>\n",
       "    <tr>\n",
       "      <th>Africa</th>\n",
       "      <td>4.22</td>\n",
       "      <td>1.15</td>\n",
       "      <td>7.0</td>\n",
       "    </tr>\n",
       "    <tr>\n",
       "      <th>Asia</th>\n",
       "      <td>2.37</td>\n",
       "      <td>0.77</td>\n",
       "      <td>4.6</td>\n",
       "    </tr>\n",
       "    <tr>\n",
       "      <th>Europe</th>\n",
       "      <td>1.58</td>\n",
       "      <td>0.18</td>\n",
       "      <td>1.9</td>\n",
       "    </tr>\n",
       "  </tbody>\n",
       "</table>\n",
       "</div>"
      ],
      "text/plain": [
       "           mean   std  amax\n",
       "Kontynent                  \n",
       "Africa     4.22  1.15   7.0\n",
       "Asia       2.37  0.77   4.6\n",
       "Europe     1.58  0.18   1.9"
      ]
     },
     "execution_count": 40,
     "metadata": {},
     "output_type": "execute_result"
    }
   ],
   "source": [
    "df_a.groupby([\"Kontynent\"])[\"Wspolczynnik dzietności\"].agg([np.mean, np.std, np.max]).round(2)"
   ]
  },
  {
   "cell_type": "code",
   "execution_count": 41,
   "id": "6eb4ac82",
   "metadata": {
    "id": "6eb4ac82",
    "outputId": "7e859c47-0484-462a-8064-a5c7e81b30a0",
    "scrolled": true
   },
   "outputs": [
    {
     "data": {
      "image/png": "[encoded data removed]",
      "text/plain": [
       "<Figure size 576x432 with 1 Axes>"
      ]
     },
     "metadata": {},
     "output_type": "display_data"
    }
   ],
   "source": [
    "plt.style.use(\"ggplot\")\n",
    "fig, ax = plt.subplots(figsize=(8, 6))\n",
    "\n",
    "sns.barplot(x=\"Kontynent\", y=\"Wspolczynnik dzietności\",data=df_a,capsize = 0.15, order=  [\"Europe\",\"Asia\",\"Africa\"])\n",
    "ax.set_xlabel(\"Kontynent\")\n",
    "ax.set_ylabel(\"Wspolczynnik dzietności\")\n",
    "ax.set_xticklabels([\"Europa\",\"Azja\", \"Afryka\"])\n",
    "ax.set_ylim(0, 7.0)\n",
    "plt.title(\"Wspolczynnik dzietności a kontynent\", pad = 15)\n",
    "if not op.exists(\"plots\"):\n",
    "    os.mkdir(\"plots\")\n",
    "plt.savefig(op.join(\"plots\",\"plot_ANOVA_2.png\"),dpi=600, transparent=False)\n",
    "plt.show()"
   ]
  },
  {
   "cell_type": "markdown",
   "id": "72341bfa",
   "metadata": {
    "id": "72341bfa"
   },
   "source": [
    "W celu sprawdzenia, czy kontynent wpływa na współczynnik dzietności, wykonano jednoczynnikową analizę wariancji w schemacie międzygrupowym. Wynik tej analizy okazał się istotny statystycznie,\n",
    "F(2, 133) = 120.44 ; p < 0.001 ; etap2 = 0.64. Wynik etap2 wskazuje na występowanie silnego efektu kontynentu. Porównania parami z korektą Sidaka wykazały istnienie istotnych statystycznie różnic między:\n",
    "\n",
    "- Afryką a Azją (p < 0.001)\n",
    "- Afryką a Europą (p < 0.001)\n",
    "- Azją a Europą (p < 0.001)\n",
    "\n",
    "Afryka (M = 4.21 ; SD = 1.15) posiada wyższy współczynnik dzietności od Azji (M = 2.37 ; SD = 0.77) oraz Europy (M= 1.58 ; SD = 0.18). Azja (M = 2.37 ; SD = 0.77) wykazuje wyższy współczynnik dzietności niż Europa (M= 1.58 ; SD = 0.18)."
   ]
  },
  {
   "cell_type": "markdown",
   "id": "26e9faf7",
   "metadata": {
    "id": "26e9faf7"
   },
   "source": [
    "### Analiza Korelacji"
   ]
  },
  {
   "cell_type": "markdown",
   "id": "9fe7b698",
   "metadata": {
    "id": "9fe7b698"
   },
   "source": [
    "Czy poziom urbanizacji jest powiązany ze współczynnikiem samobójstw?\n",
    "\n",
    "H0: Poziom urbanizacji nie jest powiązany ze współczynnikiem samobójstw.\\\n",
    "HA: Poziom urbanizacji jest powiązany ze współczynnikiem samobójstw."
   ]
  },
  {
   "cell_type": "code",
   "execution_count": 42,
   "id": "9ad96c04",
   "metadata": {
    "id": "9ad96c04",
    "outputId": "41af5142-2c6f-401e-d48c-2b0ddfe8c639",
    "scrolled": true
   },
   "outputs": [
    {
     "data": {
      "text/html": [
       "<div>\n",
       "<style scoped>\n",
       "    .dataframe tbody tr th:only-of-type {\n",
       "        vertical-align: middle;\n",
       "    }\n",
       "\n",
       "    .dataframe tbody tr th {\n",
       "        vertical-align: top;\n",
       "    }\n",
       "\n",
       "    .dataframe thead th {\n",
       "        text-align: right;\n",
       "    }\n",
       "</style>\n",
       "<table border=\"1\" class=\"dataframe\">\n",
       "  <thead>\n",
       "    <tr style=\"text-align: right;\">\n",
       "      <th></th>\n",
       "      <th>n</th>\n",
       "      <th>r</th>\n",
       "      <th>CI95%</th>\n",
       "      <th>p-val</th>\n",
       "      <th>BF10</th>\n",
       "      <th>power</th>\n",
       "    </tr>\n",
       "  </thead>\n",
       "  <tbody>\n",
       "    <tr>\n",
       "      <th>pearson</th>\n",
       "      <td>186</td>\n",
       "      <td>-0.035954</td>\n",
       "      <td>[-0.18, 0.11]</td>\n",
       "      <td>0.626113</td>\n",
       "      <td>0.103</td>\n",
       "      <td>0.077574</td>\n",
       "    </tr>\n",
       "  </tbody>\n",
       "</table>\n",
       "</div>"
      ],
      "text/plain": [
       "           n         r          CI95%     p-val   BF10     power\n",
       "pearson  186 -0.035954  [-0.18, 0.11]  0.626113  0.103  0.077574"
      ]
     },
     "execution_count": 42,
     "metadata": {},
     "output_type": "execute_result"
    }
   ],
   "source": [
    "pg.corr(x=df['Urbanizacja (%)'], y=df[\"wspolczynnik samobojstw\"])\n"
   ]
  },
  {
   "cell_type": "code",
   "execution_count": 43,
   "id": "b3c29e3f",
   "metadata": {
    "id": "b3c29e3f",
    "outputId": "fd61466b-7ee9-496c-ccf2-dd4527788f3b",
    "scrolled": true
   },
   "outputs": [
    {
     "data": {
      "image/png": "[encoded data removed]",
      "text/plain": [
       "<Figure size 360x360 with 1 Axes>"
      ]
     },
     "metadata": {},
     "output_type": "display_data"
    }
   ],
   "source": [
    "\n",
    "g = sns.lmplot(x = \"Urbanizacja (%)\", y = \"wspolczynnik samobojstw\", data = df, scatter_kws = {\"s\":20, \"alpha\":0.7})\n",
    "g.set(xlabel = \"Poziom urbanizacji w %\", ylabel = \"Wspolczynnik samobojstw\")\n",
    "g.set(ylim=(0, 31))\n",
    "plt.savefig(fname=op.join(\"plots\",'a_korelacji.png'),dpi=600,transparent=False)"
   ]
  },
  {
   "cell_type": "markdown",
   "id": "9e9a11cf",
   "metadata": {
    "id": "9e9a11cf"
   },
   "source": [
    "W celu sprawdzenia, czy poziom urbanizacji kraju jest \\\n",
    "powiązany ze współczynnikiem samobójstw wykonano analizę korelacji r Pearsona.\\\n",
    "Wynik analizy okazał się nieistotny statystycznie, r = -0.04 ; p = 0.63. Nie ma związku pomiędzy zmiennymi."
   ]
  },
  {
   "cell_type": "markdown",
   "id": "caf27be5",
   "metadata": {
    "id": "caf27be5"
   },
   "source": [
    "### Regresja jednozmiennowa:\n",
    "Przewidywanie średniej długości życia mieszkańców na podstawie ilości spożywanego mięsa."
   ]
  },
  {
   "cell_type": "code",
   "execution_count": 44,
   "id": "61890b4c",
   "metadata": {
    "id": "61890b4c"
   },
   "outputs": [],
   "source": [
    "def F(model, rnd = 2, prnd = 3):\n",
    "    p = model.f_pvalue\n",
    "    pFillIn = f\"< 0.001\" if p < 0.001 else f\"= {np.around(p,prnd)}\"\n",
    "    return f\"F({int(model.df_model)}, {int(model.df_resid)}) = {np.around(model.fvalue, rnd)} ; p {pFillIn}\""
   ]
  },
  {
   "cell_type": "code",
   "execution_count": 45,
   "id": "b59df2c3",
   "metadata": {
    "id": "b59df2c3",
    "outputId": "7f29a4a8-6175-4a98-a543-c8fe9468a719",
    "scrolled": false
   },
   "outputs": [
    {
     "data": {
      "text/html": [
       "<table class=\"simpletable\">\n",
       "<caption>OLS Regression Results</caption>\n",
       "<tr>\n",
       "  <th>Dep. Variable:</th>    <td>Q(\"Przewidywana dlugosc zycia\")</td> <th>  R-squared:         </th> <td>   0.413</td>\n",
       "</tr>\n",
       "<tr>\n",
       "  <th>Model:</th>                          <td>OLS</td>               <th>  Adj. R-squared:    </th> <td>   0.409</td>\n",
       "</tr>\n",
       "<tr>\n",
       "  <th>Method:</th>                    <td>Least Squares</td>          <th>  F-statistic:       </th> <td>   129.2</td>\n",
       "</tr>\n",
       "<tr>\n",
       "  <th>Date:</th>                    <td>Mon, 30 Jan 2023</td>         <th>  Prob (F-statistic):</th> <td>5.03e-23</td>\n",
       "</tr>\n",
       "<tr>\n",
       "  <th>Time:</th>                        <td>12:56:11</td>             <th>  Log-Likelihood:    </th> <td> -582.23</td>\n",
       "</tr>\n",
       "<tr>\n",
       "  <th>No. Observations:</th>             <td>   186</td>              <th>  AIC:               </th> <td>   1168.</td>\n",
       "</tr>\n",
       "<tr>\n",
       "  <th>Df Residuals:</th>                 <td>   184</td>              <th>  BIC:               </th> <td>   1175.</td>\n",
       "</tr>\n",
       "<tr>\n",
       "  <th>Df Model:</th>                     <td>     1</td>              <th>                     </th>     <td> </td>   \n",
       "</tr>\n",
       "<tr>\n",
       "  <th>Covariance Type:</th>             <td>nonrobust</td>            <th>                     </th>     <td> </td>   \n",
       "</tr>\n",
       "</table>\n",
       "<table class=\"simpletable\">\n",
       "<tr>\n",
       "           <td></td>              <th>coef</th>     <th>std err</th>      <th>t</th>      <th>P>|t|</th>  <th>[0.025</th>    <th>0.975]</th>  \n",
       "</tr>\n",
       "<tr>\n",
       "  <th>Intercept</th>           <td>   66.0606</td> <td>    0.675</td> <td>   97.901</td> <td> 0.000</td> <td>   64.729</td> <td>   67.392</td>\n",
       "</tr>\n",
       "<tr>\n",
       "  <th>Q(\"Spozycie miesa\")</th> <td>    0.1360</td> <td>    0.012</td> <td>   11.368</td> <td> 0.000</td> <td>    0.112</td> <td>    0.160</td>\n",
       "</tr>\n",
       "</table>\n",
       "<table class=\"simpletable\">\n",
       "<tr>\n",
       "  <th>Omnibus:</th>       <td>10.201</td> <th>  Durbin-Watson:     </th> <td>   2.107</td>\n",
       "</tr>\n",
       "<tr>\n",
       "  <th>Prob(Omnibus):</th> <td> 0.006</td> <th>  Jarque-Bera (JB):  </th> <td>  10.611</td>\n",
       "</tr>\n",
       "<tr>\n",
       "  <th>Skew:</th>          <td>-0.583</td> <th>  Prob(JB):          </th> <td> 0.00496</td>\n",
       "</tr>\n",
       "<tr>\n",
       "  <th>Kurtosis:</th>      <td> 3.092</td> <th>  Cond. No.          </th> <td>    93.3</td>\n",
       "</tr>\n",
       "</table><br/><br/>Notes:<br/>[1] Standard Errors assume that the covariance matrix of the errors is correctly specified."
      ],
      "text/plain": [
       "<class 'statsmodels.iolib.summary.Summary'>\n",
       "\"\"\"\n",
       "                                   OLS Regression Results                                  \n",
       "===========================================================================================\n",
       "Dep. Variable:     Q(\"Przewidywana dlugosc zycia\")   R-squared:                       0.413\n",
       "Model:                                         OLS   Adj. R-squared:                  0.409\n",
       "Method:                              Least Squares   F-statistic:                     129.2\n",
       "Date:                             Mon, 30 Jan 2023   Prob (F-statistic):           5.03e-23\n",
       "Time:                                     12:56:11   Log-Likelihood:                -582.23\n",
       "No. Observations:                              186   AIC:                             1168.\n",
       "Df Residuals:                                  184   BIC:                             1175.\n",
       "Df Model:                                        1                                         \n",
       "Covariance Type:                         nonrobust                                         \n",
       "=======================================================================================\n",
       "                          coef    std err          t      P>|t|      [0.025      0.975]\n",
       "---------------------------------------------------------------------------------------\n",
       "Intercept              66.0606      0.675     97.901      0.000      64.729      67.392\n",
       "Q(\"Spozycie miesa\")     0.1360      0.012     11.368      0.000       0.112       0.160\n",
       "==============================================================================\n",
       "Omnibus:                       10.201   Durbin-Watson:                   2.107\n",
       "Prob(Omnibus):                  0.006   Jarque-Bera (JB):               10.611\n",
       "Skew:                          -0.583   Prob(JB):                      0.00496\n",
       "Kurtosis:                       3.092   Cond. No.                         93.3\n",
       "==============================================================================\n",
       "\n",
       "Notes:\n",
       "[1] Standard Errors assume that the covariance matrix of the errors is correctly specified.\n",
       "\"\"\""
      ]
     },
     "execution_count": 45,
     "metadata": {},
     "output_type": "execute_result"
    }
   ],
   "source": [
    "model = smf.ols(formula= 'Q(\"Przewidywana dlugosc zycia\") ~ Q(\"Spozycie miesa\")', data = df).fit()\n",
    "model.summary()"
   ]
  },
  {
   "cell_type": "markdown",
   "id": "55617cdc",
   "metadata": {
    "id": "55617cdc"
   },
   "source": [
    "#### Y = 66.0606 + 0.1360 * Spozycie miesa"
   ]
  },
  {
   "cell_type": "code",
   "execution_count": 46,
   "id": "cf15bf83",
   "metadata": {
    "id": "cf15bf83",
    "outputId": "b11ee0d7-3ffd-499c-a4e9-91bfbaa9471a"
   },
   "outputs": [
    {
     "data": {
      "text/plain": [
       "'F(1, 184) = 129.23 ; p < 0.001'"
      ]
     },
     "execution_count": 46,
     "metadata": {},
     "output_type": "execute_result"
    }
   ],
   "source": [
    "F(model)"
   ]
  },
  {
   "cell_type": "code",
   "execution_count": 47,
   "id": "3f0fe09f",
   "metadata": {
    "id": "3f0fe09f",
    "outputId": "7809e940-44d5-456c-d097-541ec3743ea1"
   },
   "outputs": [
    {
     "data": {
      "text/plain": [
       "(3.0, 145.9)"
      ]
     },
     "execution_count": 47,
     "metadata": {},
     "output_type": "execute_result"
    }
   ],
   "source": [
    "df[\"Spozycie miesa\"].min(), df[\"Spozycie miesa\"].max()"
   ]
  },
  {
   "cell_type": "code",
   "execution_count": 48,
   "id": "1f0bae31",
   "metadata": {
    "id": "1f0bae31",
    "outputId": "9d7d3c4a-2b7a-42a5-b37f-7527580fb976"
   },
   "outputs": [
    {
     "data": {
      "image/png": "[encoded data removed]",
      "text/plain": [
       "<Figure size 360x360 with 1 Axes>"
      ]
     },
     "metadata": {},
     "output_type": "display_data"
    }
   ],
   "source": [
    "g = sns.lmplot(x=\"Spozycie miesa\",y=\"Przewidywana dlugosc zycia\",data=df)\n",
    "plt.hlines(y = df[\"Przewidywana dlugosc zycia\"].mean(), xmin = 0, xmax = 150, color = \"k\",\n",
    "           linestyles=\"dashed\")\n",
    "g.set(xlabel = \"Spożycie mięsa\", ylabel = \"Przewidywana długość życia\")\n",
    "plt.xlim(0, 150)\n",
    "plt.savefig(fname=op.join(\"plots\",'reg_jedn.png'),dpi=600,transparent=False)"
   ]
  },
  {
   "cell_type": "markdown",
   "id": "d8c8b155",
   "metadata": {
    "id": "d8c8b155"
   },
   "source": [
    "W celu sprawdzenia, czy możemy przewidywać długość życia na podstawie ilości spożywanego mięsa, wykonano analizę regresji liniowej.\\\n",
    "Proponowany model pozwala na przewidywanie długości życia, F(1, 184) = 129.23 ; p < 0.001.\\\n",
    "Równanie regresji możemy zapisać za pomocą wzoru:\\\n",
    "Przewidywana długość życia = 66.06 + 0.14 * Spożycie mięsa. \\\n",
    "Model ten wyjaśnia 41.3% wariancji przewidywanej długości życia."
   ]
  },
  {
   "cell_type": "markdown",
   "id": "a8b92843",
   "metadata": {},
   "source": [
    "## Podsumowanie"
   ]
  },
  {
   "cell_type": "markdown",
   "id": "f2bed2ea",
   "metadata": {
    "id": "f2bed2ea"
   },
   "source": [
    "- Ludzie zamieszkujący w krajach małych jedzą mniej mięsa niż osoby zamieszkujące kraje duże (test t Studenta dla prób niezależnych).\n",
    "- Kraje znajdujące się w Afryce mają wyższy współczynnik dzietności niż Europa oraz Azja. Azja również wykazuje wyższy współczynnik dzietności niż Europa (jednoczynnikowa analiza wariancji w schemacie międzygrupowym).\n",
    "- Poziom urbanizacji nie jest powiązany ze współczynnikiem samobójstw w kraju (analiza korelacji).\n",
    "- Możemy przewidywać średnią długość życia mieszkańców kraju na podstawie średniej ilości spożywanego przez nich mięsa (analiza regresji liniowej)."
   ]
  }
 ],
 "metadata": {
  "colab": {
   "name": "Analizy_Statystyczne.ipynb",
   "provenance": []
  },
  "kernelspec": {
   "display_name": "Python 3 (ipykernel)",
   "language": "python",
   "name": "python3"
  },
  "language_info": {
   "codemirror_mode": {
    "name": "ipython",
    "version": 3
   },
   "file_extension": ".py",
   "mimetype": "text/x-python",
   "name": "python",
   "nbconvert_exporter": "python",
   "pygments_lexer": "ipython3",
   "version": "3.9.7"
  }
 },
 "nbformat": 4,
 "nbformat_minor": 5
}
